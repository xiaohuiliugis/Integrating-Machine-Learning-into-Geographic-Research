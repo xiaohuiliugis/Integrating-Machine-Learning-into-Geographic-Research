{
  "nbformat": 4,
  "nbformat_minor": 0,
  "metadata": {
    "colab": {
      "name": "Demo2021.2.10.ipynb",
      "provenance": [],
      "include_colab_link": true
    },
    "kernelspec": {
      "name": "python3",
      "display_name": "Python 3"
    }
  },
  "cells": [
    {
      "cell_type": "markdown",
      "metadata": {
        "id": "view-in-github",
        "colab_type": "text"
      },
      "source": [
        "<a href=\"https://colab.research.google.com/github/xiaohuiliugis/Integrating-Machine-Learning-into-Geographic-Research/blob/main/Seagrass_MachineLearning_DecisionTree_RandomForest_Ex.ipynb\" target=\"_parent\"><img src=\"https://colab.research.google.com/assets/colab-badge.svg\" alt=\"Open In Colab\"/></a>"
      ]
    },
    {
      "cell_type": "code",
      "metadata": {
        "colab": {
          "base_uri": "https://localhost:8080/"
        },
        "id": "h1q7rPuAcMd4",
        "outputId": "9b283ce6-8b67-4854-add7-ccd1bc861ae9"
      },
      "source": [
        "!pip install geopandas"
      ],
      "execution_count": null,
      "outputs": [
        {
          "output_type": "stream",
          "text": [
            "Collecting geopandas\n",
            "\u001b[?25l  Downloading https://files.pythonhosted.org/packages/2a/9f/e8a440a993e024c0d3d4e5c7d3346367c50c9a1a3d735caf5ee3bde0aab1/geopandas-0.8.2-py2.py3-none-any.whl (962kB)\n",
            "\r\u001b[K     |▍                               | 10kB 13.7MB/s eta 0:00:01\r\u001b[K     |▊                               | 20kB 19.5MB/s eta 0:00:01\r\u001b[K     |█                               | 30kB 24.3MB/s eta 0:00:01\r\u001b[K     |█▍                              | 40kB 21.6MB/s eta 0:00:01\r\u001b[K     |█▊                              | 51kB 16.2MB/s eta 0:00:01\r\u001b[K     |██                              | 61kB 18.3MB/s eta 0:00:01\r\u001b[K     |██▍                             | 71kB 14.8MB/s eta 0:00:01\r\u001b[K     |██▊                             | 81kB 13.9MB/s eta 0:00:01\r\u001b[K     |███                             | 92kB 14.5MB/s eta 0:00:01\r\u001b[K     |███▍                            | 102kB 13.4MB/s eta 0:00:01\r\u001b[K     |███▊                            | 112kB 13.4MB/s eta 0:00:01\r\u001b[K     |████                            | 122kB 13.4MB/s eta 0:00:01\r\u001b[K     |████▍                           | 133kB 13.4MB/s eta 0:00:01\r\u001b[K     |████▊                           | 143kB 13.4MB/s eta 0:00:01\r\u001b[K     |█████                           | 153kB 13.4MB/s eta 0:00:01\r\u001b[K     |█████▌                          | 163kB 13.4MB/s eta 0:00:01\r\u001b[K     |█████▉                          | 174kB 13.4MB/s eta 0:00:01\r\u001b[K     |██████▏                         | 184kB 13.4MB/s eta 0:00:01\r\u001b[K     |██████▌                         | 194kB 13.4MB/s eta 0:00:01\r\u001b[K     |██████▉                         | 204kB 13.4MB/s eta 0:00:01\r\u001b[K     |███████▏                        | 215kB 13.4MB/s eta 0:00:01\r\u001b[K     |███████▌                        | 225kB 13.4MB/s eta 0:00:01\r\u001b[K     |███████▉                        | 235kB 13.4MB/s eta 0:00:01\r\u001b[K     |████████▏                       | 245kB 13.4MB/s eta 0:00:01\r\u001b[K     |████████▌                       | 256kB 13.4MB/s eta 0:00:01\r\u001b[K     |████████▉                       | 266kB 13.4MB/s eta 0:00:01\r\u001b[K     |█████████▏                      | 276kB 13.4MB/s eta 0:00:01\r\u001b[K     |█████████▌                      | 286kB 13.4MB/s eta 0:00:01\r\u001b[K     |█████████▉                      | 296kB 13.4MB/s eta 0:00:01\r\u001b[K     |██████████▏                     | 307kB 13.4MB/s eta 0:00:01\r\u001b[K     |██████████▌                     | 317kB 13.4MB/s eta 0:00:01\r\u001b[K     |███████████                     | 327kB 13.4MB/s eta 0:00:01\r\u001b[K     |███████████▎                    | 337kB 13.4MB/s eta 0:00:01\r\u001b[K     |███████████▋                    | 348kB 13.4MB/s eta 0:00:01\r\u001b[K     |████████████                    | 358kB 13.4MB/s eta 0:00:01\r\u001b[K     |████████████▎                   | 368kB 13.4MB/s eta 0:00:01\r\u001b[K     |████████████▋                   | 378kB 13.4MB/s eta 0:00:01\r\u001b[K     |█████████████                   | 389kB 13.4MB/s eta 0:00:01\r\u001b[K     |█████████████▎                  | 399kB 13.4MB/s eta 0:00:01\r\u001b[K     |█████████████▋                  | 409kB 13.4MB/s eta 0:00:01\r\u001b[K     |██████████████                  | 419kB 13.4MB/s eta 0:00:01\r\u001b[K     |██████████████▎                 | 430kB 13.4MB/s eta 0:00:01\r\u001b[K     |██████████████▋                 | 440kB 13.4MB/s eta 0:00:01\r\u001b[K     |███████████████                 | 450kB 13.4MB/s eta 0:00:01\r\u001b[K     |███████████████▎                | 460kB 13.4MB/s eta 0:00:01\r\u001b[K     |███████████████▋                | 471kB 13.4MB/s eta 0:00:01\r\u001b[K     |████████████████                | 481kB 13.4MB/s eta 0:00:01\r\u001b[K     |████████████████▍               | 491kB 13.4MB/s eta 0:00:01\r\u001b[K     |████████████████▊               | 501kB 13.4MB/s eta 0:00:01\r\u001b[K     |█████████████████               | 512kB 13.4MB/s eta 0:00:01\r\u001b[K     |█████████████████▍              | 522kB 13.4MB/s eta 0:00:01\r\u001b[K     |█████████████████▊              | 532kB 13.4MB/s eta 0:00:01\r\u001b[K     |██████████████████              | 542kB 13.4MB/s eta 0:00:01\r\u001b[K     |██████████████████▍             | 552kB 13.4MB/s eta 0:00:01\r\u001b[K     |██████████████████▊             | 563kB 13.4MB/s eta 0:00:01\r\u001b[K     |███████████████████             | 573kB 13.4MB/s eta 0:00:01\r\u001b[K     |███████████████████▍            | 583kB 13.4MB/s eta 0:00:01\r\u001b[K     |███████████████████▊            | 593kB 13.4MB/s eta 0:00:01\r\u001b[K     |████████████████████            | 604kB 13.4MB/s eta 0:00:01\r\u001b[K     |████████████████████▍           | 614kB 13.4MB/s eta 0:00:01\r\u001b[K     |████████████████████▊           | 624kB 13.4MB/s eta 0:00:01\r\u001b[K     |█████████████████████           | 634kB 13.4MB/s eta 0:00:01\r\u001b[K     |█████████████████████▍          | 645kB 13.4MB/s eta 0:00:01\r\u001b[K     |█████████████████████▉          | 655kB 13.4MB/s eta 0:00:01\r\u001b[K     |██████████████████████▏         | 665kB 13.4MB/s eta 0:00:01\r\u001b[K     |██████████████████████▌         | 675kB 13.4MB/s eta 0:00:01\r\u001b[K     |██████████████████████▉         | 686kB 13.4MB/s eta 0:00:01\r\u001b[K     |███████████████████████▏        | 696kB 13.4MB/s eta 0:00:01\r\u001b[K     |███████████████████████▌        | 706kB 13.4MB/s eta 0:00:01\r\u001b[K     |███████████████████████▉        | 716kB 13.4MB/s eta 0:00:01\r\u001b[K     |████████████████████████▏       | 727kB 13.4MB/s eta 0:00:01\r\u001b[K     |████████████████████████▌       | 737kB 13.4MB/s eta 0:00:01\r\u001b[K     |████████████████████████▉       | 747kB 13.4MB/s eta 0:00:01\r\u001b[K     |█████████████████████████▏      | 757kB 13.4MB/s eta 0:00:01\r\u001b[K     |█████████████████████████▌      | 768kB 13.4MB/s eta 0:00:01\r\u001b[K     |█████████████████████████▉      | 778kB 13.4MB/s eta 0:00:01\r\u001b[K     |██████████████████████████▏     | 788kB 13.4MB/s eta 0:00:01\r\u001b[K     |██████████████████████████▌     | 798kB 13.4MB/s eta 0:00:01\r\u001b[K     |██████████████████████████▉     | 808kB 13.4MB/s eta 0:00:01\r\u001b[K     |███████████████████████████▎    | 819kB 13.4MB/s eta 0:00:01\r\u001b[K     |███████████████████████████▋    | 829kB 13.4MB/s eta 0:00:01\r\u001b[K     |████████████████████████████    | 839kB 13.4MB/s eta 0:00:01\r\u001b[K     |████████████████████████████▎   | 849kB 13.4MB/s eta 0:00:01\r\u001b[K     |████████████████████████████▋   | 860kB 13.4MB/s eta 0:00:01\r\u001b[K     |█████████████████████████████   | 870kB 13.4MB/s eta 0:00:01\r\u001b[K     |█████████████████████████████▎  | 880kB 13.4MB/s eta 0:00:01\r\u001b[K     |█████████████████████████████▋  | 890kB 13.4MB/s eta 0:00:01\r\u001b[K     |██████████████████████████████  | 901kB 13.4MB/s eta 0:00:01\r\u001b[K     |██████████████████████████████▎ | 911kB 13.4MB/s eta 0:00:01\r\u001b[K     |██████████████████████████████▋ | 921kB 13.4MB/s eta 0:00:01\r\u001b[K     |███████████████████████████████ | 931kB 13.4MB/s eta 0:00:01\r\u001b[K     |███████████████████████████████▎| 942kB 13.4MB/s eta 0:00:01\r\u001b[K     |███████████████████████████████▋| 952kB 13.4MB/s eta 0:00:01\r\u001b[K     |████████████████████████████████| 962kB 13.4MB/s eta 0:00:01\r\u001b[K     |████████████████████████████████| 972kB 13.4MB/s \n",
            "\u001b[?25hRequirement already satisfied: shapely in /usr/local/lib/python3.6/dist-packages (from geopandas) (1.7.1)\n",
            "Collecting pyproj>=2.2.0\n",
            "\u001b[?25l  Downloading https://files.pythonhosted.org/packages/e4/ab/280e80a67cfc109d15428c0ec56391fc03a65857b7727cf4e6e6f99a4204/pyproj-3.0.0.post1-cp36-cp36m-manylinux2010_x86_64.whl (6.4MB)\n",
            "\u001b[K     |████████████████████████████████| 6.5MB 22.1MB/s \n",
            "\u001b[?25hCollecting fiona\n",
            "\u001b[?25l  Downloading https://files.pythonhosted.org/packages/37/94/4910fd55246c1d963727b03885ead6ef1cd3748a465f7b0239ab25dfc9a3/Fiona-1.8.18-cp36-cp36m-manylinux1_x86_64.whl (14.8MB)\n",
            "\u001b[K     |████████████████████████████████| 14.8MB 316kB/s \n",
            "\u001b[?25hRequirement already satisfied: pandas>=0.23.0 in /usr/local/lib/python3.6/dist-packages (from geopandas) (1.1.5)\n",
            "Requirement already satisfied: certifi in /usr/local/lib/python3.6/dist-packages (from pyproj>=2.2.0->geopandas) (2020.12.5)\n",
            "Requirement already satisfied: six>=1.7 in /usr/local/lib/python3.6/dist-packages (from fiona->geopandas) (1.15.0)\n",
            "Collecting munch\n",
            "  Downloading https://files.pythonhosted.org/packages/cc/ab/85d8da5c9a45e072301beb37ad7f833cd344e04c817d97e0cc75681d248f/munch-2.5.0-py2.py3-none-any.whl\n",
            "Requirement already satisfied: click<8,>=4.0 in /usr/local/lib/python3.6/dist-packages (from fiona->geopandas) (7.1.2)\n",
            "Requirement already satisfied: attrs>=17 in /usr/local/lib/python3.6/dist-packages (from fiona->geopandas) (20.3.0)\n",
            "Collecting cligj>=0.5\n",
            "  Downloading https://files.pythonhosted.org/packages/42/1e/947eadf10d6804bf276eb8a038bd5307996dceaaa41cfd21b7a15ec62f5d/cligj-0.7.1-py3-none-any.whl\n",
            "Collecting click-plugins>=1.0\n",
            "  Downloading https://files.pythonhosted.org/packages/e9/da/824b92d9942f4e472702488857914bdd50f73021efea15b4cad9aca8ecef/click_plugins-1.1.1-py2.py3-none-any.whl\n",
            "Requirement already satisfied: pytz>=2017.2 in /usr/local/lib/python3.6/dist-packages (from pandas>=0.23.0->geopandas) (2018.9)\n",
            "Requirement already satisfied: python-dateutil>=2.7.3 in /usr/local/lib/python3.6/dist-packages (from pandas>=0.23.0->geopandas) (2.8.1)\n",
            "Requirement already satisfied: numpy>=1.15.4 in /usr/local/lib/python3.6/dist-packages (from pandas>=0.23.0->geopandas) (1.19.5)\n",
            "Installing collected packages: pyproj, munch, cligj, click-plugins, fiona, geopandas\n",
            "Successfully installed click-plugins-1.1.1 cligj-0.7.1 fiona-1.8.18 geopandas-0.8.2 munch-2.5.0 pyproj-3.0.0.post1\n"
          ],
          "name": "stdout"
        }
      ]
    },
    {
      "cell_type": "code",
      "metadata": {
        "id": "VqTiF58WdcGS"
      },
      "source": [
        "import geopandas as gpd"
      ],
      "execution_count": null,
      "outputs": []
    },
    {
      "cell_type": "code",
      "metadata": {
        "id": "FvRGOef5dgfi"
      },
      "source": [
        "coastline_attr_gpd = gpd.read_file(\"/content/drive/MyDrive/2021AAGWorkshop/Demo/Data/coastline_attr_seagrass.shp\")"
      ],
      "execution_count": null,
      "outputs": []
    },
    {
      "cell_type": "code",
      "metadata": {
        "colab": {
          "base_uri": "https://localhost:8080/",
          "height": 244
        },
        "id": "IGrrPyWsdw2F",
        "outputId": "873aecb5-581a-4526-962a-333ec4184cc3"
      },
      "source": [
        "coastline_attr_gpd.plot()"
      ],
      "execution_count": null,
      "outputs": [
        {
          "output_type": "execute_result",
          "data": {
            "text/plain": [
              "<matplotlib.axes._subplots.AxesSubplot at 0x7f3bd6d47b38>"
            ]
          },
          "metadata": {
            "tags": []
          },
          "execution_count": 4
        },
        {
          "output_type": "display_data",
          "data": {
            "image/png": "[encoded data removed]",
            "text/plain": [
              "<Figure size 432x288 with 1 Axes>"
            ]
          },
          "metadata": {
            "tags": [],
            "needs_background": "light"
          }
        }
      ]
    },
    {
      "cell_type": "code",
      "metadata": {
        "colab": {
          "base_uri": "https://localhost:8080/",
          "height": 394
        },
        "id": "ZOoT8lVud2Ip",
        "outputId": "cfa75c42-ea74-4298-8fed-3ec074f89802"
      },
      "source": [
        "coastline_attr_gpd.head()"
      ],
      "execution_count": null,
      "outputs": [
        {
          "output_type": "execute_result",
          "data": {
            "text/html": [
              "<div>\n",
              "<style scoped>\n",
              "    .dataframe tbody tr th:only-of-type {\n",
              "        vertical-align: middle;\n",
              "    }\n",
              "\n",
              "    .dataframe tbody tr th {\n",
              "        vertical-align: top;\n",
              "    }\n",
              "\n",
              "    .dataframe thead th {\n",
              "        text-align: right;\n",
              "    }\n",
              "</style>\n",
              "<table border=\"1\" class=\"dataframe\">\n",
              "  <thead>\n",
              "    <tr style=\"text-align: right;\">\n",
              "      <th></th>\n",
              "      <th>CID</th>\n",
              "      <th>salinity</th>\n",
              "      <th>srtm30</th>\n",
              "      <th>silicate</th>\n",
              "      <th>phosphate</th>\n",
              "      <th>nitrate</th>\n",
              "      <th>disso2</th>\n",
              "      <th>temp</th>\n",
              "      <th>sea_grass</th>\n",
              "      <th>geometry</th>\n",
              "    </tr>\n",
              "  </thead>\n",
              "  <tbody>\n",
              "    <tr>\n",
              "      <th>0</th>\n",
              "      <td>1</td>\n",
              "      <td>36.1645</td>\n",
              "      <td>-13.54730</td>\n",
              "      <td>2.14787</td>\n",
              "      <td>0.085490</td>\n",
              "      <td>0.672583</td>\n",
              "      <td>4.73538</td>\n",
              "      <td>26.0314</td>\n",
              "      <td>1</td>\n",
              "      <td>POINT (-82.22100 24.50021)</td>\n",
              "    </tr>\n",
              "    <tr>\n",
              "      <th>1</th>\n",
              "      <td>1</td>\n",
              "      <td>35.8820</td>\n",
              "      <td>-5.29631</td>\n",
              "      <td>3.39048</td>\n",
              "      <td>0.081309</td>\n",
              "      <td>0.589654</td>\n",
              "      <td>4.82170</td>\n",
              "      <td>26.2659</td>\n",
              "      <td>1</td>\n",
              "      <td>POINT (-81.16694 25.14926)</td>\n",
              "    </tr>\n",
              "    <tr>\n",
              "      <th>2</th>\n",
              "      <td>1</td>\n",
              "      <td>28.2685</td>\n",
              "      <td>5.36795</td>\n",
              "      <td>4.50515</td>\n",
              "      <td>0.220880</td>\n",
              "      <td>1.225100</td>\n",
              "      <td>4.74903</td>\n",
              "      <td>23.2961</td>\n",
              "      <td>0</td>\n",
              "      <td>POINT (-90.58674 29.24938)</td>\n",
              "    </tr>\n",
              "    <tr>\n",
              "      <th>3</th>\n",
              "      <td>1</td>\n",
              "      <td>27.8134</td>\n",
              "      <td>-11.50460</td>\n",
              "      <td>2.30621</td>\n",
              "      <td>0.353542</td>\n",
              "      <td>2.226290</td>\n",
              "      <td>5.55894</td>\n",
              "      <td>14.3673</td>\n",
              "      <td>1</td>\n",
              "      <td>POINT (-76.05466 36.96940)</td>\n",
              "    </tr>\n",
              "    <tr>\n",
              "      <th>4</th>\n",
              "      <td>1</td>\n",
              "      <td>16.0193</td>\n",
              "      <td>-4.73809</td>\n",
              "      <td>2.47356</td>\n",
              "      <td>0.409711</td>\n",
              "      <td>2.607220</td>\n",
              "      <td>5.76708</td>\n",
              "      <td>13.9874</td>\n",
              "      <td>1</td>\n",
              "      <td>POINT (-76.38891 39.27398)</td>\n",
              "    </tr>\n",
              "  </tbody>\n",
              "</table>\n",
              "</div>"
            ],
            "text/plain": [
              "   CID  salinity    srtm30  ...     temp  sea_grass                    geometry\n",
              "0    1   36.1645 -13.54730  ...  26.0314          1  POINT (-82.22100 24.50021)\n",
              "1    1   35.8820  -5.29631  ...  26.2659          1  POINT (-81.16694 25.14926)\n",
              "2    1   28.2685   5.36795  ...  23.2961          0  POINT (-90.58674 29.24938)\n",
              "3    1   27.8134 -11.50460  ...  14.3673          1  POINT (-76.05466 36.96940)\n",
              "4    1   16.0193  -4.73809  ...  13.9874          1  POINT (-76.38891 39.27398)\n",
              "\n",
              "[5 rows x 10 columns]"
            ]
          },
          "metadata": {
            "tags": []
          },
          "execution_count": 5
        }
      ]
    },
    {
      "cell_type": "code",
      "metadata": {
        "colab": {
          "base_uri": "https://localhost:8080/",
          "height": 394
        },
        "id": "0dByU1RCd8fj",
        "outputId": "a38e7c0f-26e9-4ed4-f4aa-b436fcb883d2"
      },
      "source": [
        "coastline_attr_gpd[\"x\"] = coastline_attr_gpd.geometry.x\n",
        "coastline_attr_gpd[\"y\"] = coastline_attr_gpd.geometry.y\n",
        "coastline_attr_gpd.head()"
      ],
      "execution_count": null,
      "outputs": [
        {
          "output_type": "execute_result",
          "data": {
            "text/html": [
              "<div>\n",
              "<style scoped>\n",
              "    .dataframe tbody tr th:only-of-type {\n",
              "        vertical-align: middle;\n",
              "    }\n",
              "\n",
              "    .dataframe tbody tr th {\n",
              "        vertical-align: top;\n",
              "    }\n",
              "\n",
              "    .dataframe thead th {\n",
              "        text-align: right;\n",
              "    }\n",
              "</style>\n",
              "<table border=\"1\" class=\"dataframe\">\n",
              "  <thead>\n",
              "    <tr style=\"text-align: right;\">\n",
              "      <th></th>\n",
              "      <th>CID</th>\n",
              "      <th>salinity</th>\n",
              "      <th>srtm30</th>\n",
              "      <th>silicate</th>\n",
              "      <th>phosphate</th>\n",
              "      <th>nitrate</th>\n",
              "      <th>disso2</th>\n",
              "      <th>temp</th>\n",
              "      <th>sea_grass</th>\n",
              "      <th>geometry</th>\n",
              "      <th>x</th>\n",
              "      <th>y</th>\n",
              "    </tr>\n",
              "  </thead>\n",
              "  <tbody>\n",
              "    <tr>\n",
              "      <th>0</th>\n",
              "      <td>1</td>\n",
              "      <td>36.1645</td>\n",
              "      <td>-13.54730</td>\n",
              "      <td>2.14787</td>\n",
              "      <td>0.085490</td>\n",
              "      <td>0.672583</td>\n",
              "      <td>4.73538</td>\n",
              "      <td>26.0314</td>\n",
              "      <td>1</td>\n",
              "      <td>POINT (-82.22100 24.50021)</td>\n",
              "      <td>-82.221000</td>\n",
              "      <td>24.500212</td>\n",
              "    </tr>\n",
              "    <tr>\n",
              "      <th>1</th>\n",
              "      <td>1</td>\n",
              "      <td>35.8820</td>\n",
              "      <td>-5.29631</td>\n",
              "      <td>3.39048</td>\n",
              "      <td>0.081309</td>\n",
              "      <td>0.589654</td>\n",
              "      <td>4.82170</td>\n",
              "      <td>26.2659</td>\n",
              "      <td>1</td>\n",
              "      <td>POINT (-81.16694 25.14926)</td>\n",
              "      <td>-81.166938</td>\n",
              "      <td>25.149262</td>\n",
              "    </tr>\n",
              "    <tr>\n",
              "      <th>2</th>\n",
              "      <td>1</td>\n",
              "      <td>28.2685</td>\n",
              "      <td>5.36795</td>\n",
              "      <td>4.50515</td>\n",
              "      <td>0.220880</td>\n",
              "      <td>1.225100</td>\n",
              "      <td>4.74903</td>\n",
              "      <td>23.2961</td>\n",
              "      <td>0</td>\n",
              "      <td>POINT (-90.58674 29.24938)</td>\n",
              "      <td>-90.586741</td>\n",
              "      <td>29.249380</td>\n",
              "    </tr>\n",
              "    <tr>\n",
              "      <th>3</th>\n",
              "      <td>1</td>\n",
              "      <td>27.8134</td>\n",
              "      <td>-11.50460</td>\n",
              "      <td>2.30621</td>\n",
              "      <td>0.353542</td>\n",
              "      <td>2.226290</td>\n",
              "      <td>5.55894</td>\n",
              "      <td>14.3673</td>\n",
              "      <td>1</td>\n",
              "      <td>POINT (-76.05466 36.96940)</td>\n",
              "      <td>-76.054661</td>\n",
              "      <td>36.969399</td>\n",
              "    </tr>\n",
              "    <tr>\n",
              "      <th>4</th>\n",
              "      <td>1</td>\n",
              "      <td>16.0193</td>\n",
              "      <td>-4.73809</td>\n",
              "      <td>2.47356</td>\n",
              "      <td>0.409711</td>\n",
              "      <td>2.607220</td>\n",
              "      <td>5.76708</td>\n",
              "      <td>13.9874</td>\n",
              "      <td>1</td>\n",
              "      <td>POINT (-76.38891 39.27398)</td>\n",
              "      <td>-76.388908</td>\n",
              "      <td>39.273977</td>\n",
              "    </tr>\n",
              "  </tbody>\n",
              "</table>\n",
              "</div>"
            ],
            "text/plain": [
              "   CID  salinity    srtm30  ...                    geometry          x          y\n",
              "0    1   36.1645 -13.54730  ...  POINT (-82.22100 24.50021) -82.221000  24.500212\n",
              "1    1   35.8820  -5.29631  ...  POINT (-81.16694 25.14926) -81.166938  25.149262\n",
              "2    1   28.2685   5.36795  ...  POINT (-90.58674 29.24938) -90.586741  29.249380\n",
              "3    1   27.8134 -11.50460  ...  POINT (-76.05466 36.96940) -76.054661  36.969399\n",
              "4    1   16.0193  -4.73809  ...  POINT (-76.38891 39.27398) -76.388908  39.273977\n",
              "\n",
              "[5 rows x 12 columns]"
            ]
          },
          "metadata": {
            "tags": []
          },
          "execution_count": 6
        }
      ]
    },
    {
      "cell_type": "code",
      "metadata": {
        "colab": {
          "base_uri": "https://localhost:8080/"
        },
        "id": "kh-VXbYhfyPT",
        "outputId": "3baa34bf-7ab4-426c-ce82-90eff2bfe8c4"
      },
      "source": [
        "coastline_attr_gpd.shape"
      ],
      "execution_count": null,
      "outputs": [
        {
          "output_type": "execute_result",
          "data": {
            "text/plain": [
              "(10000, 12)"
            ]
          },
          "metadata": {
            "tags": []
          },
          "execution_count": 7
        }
      ]
    },
    {
      "cell_type": "code",
      "metadata": {
        "id": "75xycwvwfJ_q"
      },
      "source": [
        "training_data = coastline_attr_gpd.sample(frac=0.8, random_state=42)\n",
        "test_data = coastline_attr_gpd.drop(training_data.index)"
      ],
      "execution_count": null,
      "outputs": []
    },
    {
      "cell_type": "code",
      "metadata": {
        "id": "SxRnRuM-gKgA"
      },
      "source": [
        "training_label = training_data.pop(\"nitrate\")\n",
        "test_label = test_data.pop(\"nitrate\")"
      ],
      "execution_count": null,
      "outputs": []
    },
    {
      "cell_type": "code",
      "metadata": {
        "id": "uNX7joPbgz8Q"
      },
      "source": [
        "training_data = training_data[[\"salinity\",\"srtm30\",\t\"silicate\",\t\"phosphate\",\t\"disso2\",\t\"temp\",\t\"x\",\t\"y\"]]"
      ],
      "execution_count": null,
      "outputs": []
    },
    {
      "cell_type": "code",
      "metadata": {
        "id": "TKl_DbYegs8Z"
      },
      "source": [
        "test_data = test_data[[\"salinity\",\"srtm30\",\t\"silicate\",\t\"phosphate\",\t\"disso2\",\t\"temp\",\t\"x\",\t\"y\"]]"
      ],
      "execution_count": null,
      "outputs": []
    },
    {
      "cell_type": "code",
      "metadata": {
        "colab": {
          "base_uri": "https://localhost:8080/",
          "height": 204
        },
        "id": "UO8s1cffhZ2f",
        "outputId": "50ffde3d-5cfa-4897-ca6a-48c27b144195"
      },
      "source": [
        "training_data.head()"
      ],
      "execution_count": null,
      "outputs": [
        {
          "output_type": "execute_result",
          "data": {
            "text/html": [
              "<div>\n",
              "<style scoped>\n",
              "    .dataframe tbody tr th:only-of-type {\n",
              "        vertical-align: middle;\n",
              "    }\n",
              "\n",
              "    .dataframe tbody tr th {\n",
              "        vertical-align: top;\n",
              "    }\n",
              "\n",
              "    .dataframe thead th {\n",
              "        text-align: right;\n",
              "    }\n",
              "</style>\n",
              "<table border=\"1\" class=\"dataframe\">\n",
              "  <thead>\n",
              "    <tr style=\"text-align: right;\">\n",
              "      <th></th>\n",
              "      <th>salinity</th>\n",
              "      <th>srtm30</th>\n",
              "      <th>silicate</th>\n",
              "      <th>phosphate</th>\n",
              "      <th>disso2</th>\n",
              "      <th>temp</th>\n",
              "      <th>x</th>\n",
              "      <th>y</th>\n",
              "    </tr>\n",
              "  </thead>\n",
              "  <tbody>\n",
              "    <tr>\n",
              "      <th>6252</th>\n",
              "      <td>33.1483</td>\n",
              "      <td>-56.1788</td>\n",
              "      <td>17.08550</td>\n",
              "      <td>1.138370</td>\n",
              "      <td>5.36714</td>\n",
              "      <td>9.83431</td>\n",
              "      <td>-124.496989</td>\n",
              "      <td>42.579380</td>\n",
              "    </tr>\n",
              "    <tr>\n",
              "      <th>4684</th>\n",
              "      <td>35.7009</td>\n",
              "      <td>-21.0945</td>\n",
              "      <td>1.38960</td>\n",
              "      <td>0.199679</td>\n",
              "      <td>5.05932</td>\n",
              "      <td>21.88080</td>\n",
              "      <td>-77.202987</td>\n",
              "      <td>34.580760</td>\n",
              "    </tr>\n",
              "    <tr>\n",
              "      <th>1731</th>\n",
              "      <td>35.4923</td>\n",
              "      <td>-17.9311</td>\n",
              "      <td>2.58428</td>\n",
              "      <td>0.131155</td>\n",
              "      <td>4.91319</td>\n",
              "      <td>23.08300</td>\n",
              "      <td>-81.368064</td>\n",
              "      <td>30.280428</td>\n",
              "    </tr>\n",
              "    <tr>\n",
              "      <th>4742</th>\n",
              "      <td>30.8778</td>\n",
              "      <td>-57.5877</td>\n",
              "      <td>15.09390</td>\n",
              "      <td>1.082800</td>\n",
              "      <td>6.37896</td>\n",
              "      <td>9.31756</td>\n",
              "      <td>-122.636420</td>\n",
              "      <td>48.201936</td>\n",
              "    </tr>\n",
              "    <tr>\n",
              "      <th>4521</th>\n",
              "      <td>32.6253</td>\n",
              "      <td>-68.5389</td>\n",
              "      <td>4.57709</td>\n",
              "      <td>0.671806</td>\n",
              "      <td>6.41385</td>\n",
              "      <td>7.43766</td>\n",
              "      <td>-67.829796</td>\n",
              "      <td>44.443662</td>\n",
              "    </tr>\n",
              "  </tbody>\n",
              "</table>\n",
              "</div>"
            ],
            "text/plain": [
              "      salinity   srtm30  silicate  ...      temp           x          y\n",
              "6252   33.1483 -56.1788  17.08550  ...   9.83431 -124.496989  42.579380\n",
              "4684   35.7009 -21.0945   1.38960  ...  21.88080  -77.202987  34.580760\n",
              "1731   35.4923 -17.9311   2.58428  ...  23.08300  -81.368064  30.280428\n",
              "4742   30.8778 -57.5877  15.09390  ...   9.31756 -122.636420  48.201936\n",
              "4521   32.6253 -68.5389   4.57709  ...   7.43766  -67.829796  44.443662\n",
              "\n",
              "[5 rows x 8 columns]"
            ]
          },
          "metadata": {
            "tags": []
          },
          "execution_count": 12
        }
      ]
    },
    {
      "cell_type": "code",
      "metadata": {
        "colab": {
          "base_uri": "https://localhost:8080/"
        },
        "id": "ScOkRNeNhdN7",
        "outputId": "7e84155e-f8b5-4cf4-9583-c0491efec1de"
      },
      "source": [
        "training_label.head()"
      ],
      "execution_count": null,
      "outputs": [
        {
          "output_type": "execute_result",
          "data": {
            "text/plain": [
              "6252    9.058800\n",
              "4684    1.079670\n",
              "1731    0.844095\n",
              "4742    7.414680\n",
              "4521    5.384510\n",
              "Name: nitrate, dtype: float64"
            ]
          },
          "metadata": {
            "tags": []
          },
          "execution_count": 13
        }
      ]
    },
    {
      "cell_type": "code",
      "metadata": {
        "id": "o8GQp1k9hprk"
      },
      "source": [
        "from sklearn.tree import DecisionTreeRegressor\n",
        "from sklearn.ensemble import RandomForestRegressor"
      ],
      "execution_count": null,
      "outputs": []
    },
    {
      "cell_type": "code",
      "metadata": {
        "id": "_FQVFgOLiAvj"
      },
      "source": [
        "tree_reg = DecisionTreeRegressor(min_samples_leaf=10,random_state=42)\n",
        "forest_reg = RandomForestRegressor(min_samples_leaf=10,random_state=42)"
      ],
      "execution_count": null,
      "outputs": []
    },
    {
      "cell_type": "code",
      "metadata": {
        "colab": {
          "base_uri": "https://localhost:8080/"
        },
        "id": "zrkDhex-iR7L",
        "outputId": "9716a8f2-3eb9-4a48-b69f-7470ad9d7b3b"
      },
      "source": [
        "tree_reg.fit(training_data,training_label)"
      ],
      "execution_count": null,
      "outputs": [
        {
          "output_type": "execute_result",
          "data": {
            "text/plain": [
              "DecisionTreeRegressor(ccp_alpha=0.0, criterion='mse', max_depth=None,\n",
              "                      max_features=None, max_leaf_nodes=None,\n",
              "                      min_impurity_decrease=0.0, min_impurity_split=None,\n",
              "                      min_samples_leaf=10, min_samples_split=2,\n",
              "                      min_weight_fraction_leaf=0.0, presort='deprecated',\n",
              "                      random_state=42, splitter='best')"
            ]
          },
          "metadata": {
            "tags": []
          },
          "execution_count": 16
        }
      ]
    },
    {
      "cell_type": "code",
      "metadata": {
        "colab": {
          "base_uri": "https://localhost:8080/"
        },
        "id": "O3z0_YNoiZvt",
        "outputId": "1ee221d4-b405-4350-9f35-40b4eecd6668"
      },
      "source": [
        "forest_reg.fit(training_data,training_label)"
      ],
      "execution_count": null,
      "outputs": [
        {
          "output_type": "execute_result",
          "data": {
            "text/plain": [
              "RandomForestRegressor(bootstrap=True, ccp_alpha=0.0, criterion='mse',\n",
              "                      max_depth=None, max_features='auto', max_leaf_nodes=None,\n",
              "                      max_samples=None, min_impurity_decrease=0.0,\n",
              "                      min_impurity_split=None, min_samples_leaf=10,\n",
              "                      min_samples_split=2, min_weight_fraction_leaf=0.0,\n",
              "                      n_estimators=100, n_jobs=None, oob_score=False,\n",
              "                      random_state=42, verbose=0, warm_start=False)"
            ]
          },
          "metadata": {
            "tags": []
          },
          "execution_count": 17
        }
      ]
    },
    {
      "cell_type": "code",
      "metadata": {
        "id": "IZf3jdrQieF5"
      },
      "source": [
        "y_pred_tree = tree_reg.predict(test_data)\n",
        "y_pred_forest = forest_reg.predict(test_data)"
      ],
      "execution_count": null,
      "outputs": []
    },
    {
      "cell_type": "code",
      "metadata": {
        "colab": {
          "base_uri": "https://localhost:8080/"
        },
        "id": "2nXGUM9hisqS",
        "outputId": "f2dc7d2f-aa8d-4ab3-b850-ca40a036e062"
      },
      "source": [
        "y_pred_tree[0]"
      ],
      "execution_count": null,
      "outputs": [
        {
          "output_type": "execute_result",
          "data": {
            "text/plain": [
              "0.5906545000000001"
            ]
          },
          "metadata": {
            "tags": []
          },
          "execution_count": 19
        }
      ]
    },
    {
      "cell_type": "code",
      "metadata": {
        "colab": {
          "base_uri": "https://localhost:8080/"
        },
        "id": "4BJv-IYFivVB",
        "outputId": "d43c4379-30b8-497d-ab0e-4b4fadd6afc5"
      },
      "source": [
        "test_label_np = test_label.to_numpy()\n",
        "test_label_np[0]"
      ],
      "execution_count": null,
      "outputs": [
        {
          "output_type": "execute_result",
          "data": {
            "text/plain": [
              "0.589654"
            ]
          },
          "metadata": {
            "tags": []
          },
          "execution_count": 20
        }
      ]
    },
    {
      "cell_type": "code",
      "metadata": {
        "id": "BfpX5ETvi6Mu"
      },
      "source": [
        "from sklearn.metrics import mean_squared_error"
      ],
      "execution_count": null,
      "outputs": []
    },
    {
      "cell_type": "code",
      "metadata": {
        "colab": {
          "base_uri": "https://localhost:8080/"
        },
        "id": "hzGtkZlAjCP5",
        "outputId": "8b28e8b8-d22d-4226-9907-013def0d037b"
      },
      "source": [
        "rmse = mean_squared_error(test_label_np,y_pred_tree, squared=False)\n",
        "rmse"
      ],
      "execution_count": null,
      "outputs": [
        {
          "output_type": "execute_result",
          "data": {
            "text/plain": [
              "0.017314144357289965"
            ]
          },
          "metadata": {
            "tags": []
          },
          "execution_count": 23
        }
      ]
    },
    {
      "cell_type": "code",
      "metadata": {
        "colab": {
          "base_uri": "https://localhost:8080/"
        },
        "id": "o9H2qyeCjLXx",
        "outputId": "5867c77e-76c5-4828-b73c-5c99054baa6a"
      },
      "source": [
        "rmse = mean_squared_error(test_label_np,y_pred_forest, squared=False)\n",
        "rmse"
      ],
      "execution_count": null,
      "outputs": [
        {
          "output_type": "execute_result",
          "data": {
            "text/plain": [
              "0.015396886585799813"
            ]
          },
          "metadata": {
            "tags": []
          },
          "execution_count": 24
        }
      ]
    },
    {
      "cell_type": "code",
      "metadata": {
        "colab": {
          "base_uri": "https://localhost:8080/",
          "height": 409
        },
        "id": "92bIQ5bZjSzA",
        "outputId": "0ed749f9-20d7-4468-926a-97ec49bc1dea"
      },
      "source": [
        "# to visually see how our prediction aligns with the true observations\n",
        "import matplotlib.pyplot as plt\n",
        "\n",
        "plt.figure(figsize=(6,6))\n",
        "plt.scatter(test_label_np,y_pred_forest, s=14, c='blue')\n",
        "plt.xlabel(\"True value\")\n",
        "plt.ylabel(\"Predictions\")\n",
        "\n",
        "# draw a reference line\n",
        "lim = [0,10]\n",
        "plt.xlim(lim)\n",
        "plt.ylim(lim)\n",
        "plt.plot(lim,lim,\"r-\")\n"
      ],
      "execution_count": null,
      "outputs": [
        {
          "output_type": "execute_result",
          "data": {
            "text/plain": [
              "[<matplotlib.lines.Line2D at 0x7f3bd61da9b0>]"
            ]
          },
          "metadata": {
            "tags": []
          },
          "execution_count": 29
        },
        {
          "output_type": "display_data",
          "data": {
            "image/png": "[encoded data removed]",
            "text/plain": [
              "<Figure size 432x432 with 1 Axes>"
            ]
          },
          "metadata": {
            "tags": [],
            "needs_background": "light"
          }
        }
      ]
    },
    {
      "cell_type": "code",
      "metadata": {
        "id": "2YJAriejsY8E"
      },
      "source": [
        ""
      ],
      "execution_count": null,
      "outputs": []
    }
  ]
}