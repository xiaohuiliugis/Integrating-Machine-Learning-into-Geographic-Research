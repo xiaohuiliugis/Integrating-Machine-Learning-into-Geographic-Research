{
  "nbformat": 4,
  "nbformat_minor": 0,
  "metadata": {
    "colab": {
      "name": "Demo2021.2.9.ipynb",
      "provenance": [],
      "include_colab_link": true
    },
    "kernelspec": {
      "name": "python3",
      "display_name": "Python 3"
    }
  },
  "cells": [
    {
      "cell_type": "markdown",
      "metadata": {
        "id": "view-in-github",
        "colab_type": "text"
      },
      "source": [
        "<a href=\"https://colab.research.google.com/github/xiaohuiliugis/Integrating-Machine-Learning-into-Geographic-Research/blob/main/Python%20Refresh%20and%20GeoPandas.ipynb\" target=\"_parent\"><img src=\"https://colab.research.google.com/assets/colab-badge.svg\" alt=\"Open In Colab\"/></a>"
      ]
    },
    {
      "cell_type": "code",
      "metadata": {
        "id": "urbi6hLEXWjR"
      },
      "source": [
        "my_list = [\"Buffalo\",\"DC\",\"NYC\"]"
      ],
      "execution_count": null,
      "outputs": []
    },
    {
      "cell_type": "code",
      "metadata": {
        "colab": {
          "base_uri": "https://localhost:8080/"
        },
        "id": "CaHK3TfSYU96",
        "outputId": "3e774a25-459a-4610-dccf-16aa93a413ac"
      },
      "source": [
        "my_list"
      ],
      "execution_count": null,
      "outputs": [
        {
          "output_type": "execute_result",
          "data": {
            "text/plain": [
              "['Buffalo', 'DC', 'NYC']"
            ]
          },
          "metadata": {
            "tags": []
          },
          "execution_count": 3
        }
      ]
    },
    {
      "cell_type": "code",
      "metadata": {
        "colab": {
          "base_uri": "https://localhost:8080/"
        },
        "id": "tQ8ojaEhYX9m",
        "outputId": "817a62f4-76f0-4c6e-da33-6966642b33dc"
      },
      "source": [
        "my_list.append(\"Seattle\")\n",
        "my_list"
      ],
      "execution_count": null,
      "outputs": [
        {
          "output_type": "execute_result",
          "data": {
            "text/plain": [
              "['Buffalo', 'DC', 'NYC', 'Seattle']"
            ]
          },
          "metadata": {
            "tags": []
          },
          "execution_count": 4
        }
      ]
    },
    {
      "cell_type": "code",
      "metadata": {
        "colab": {
          "base_uri": "https://localhost:8080/"
        },
        "id": "umQKYDdoYiUK",
        "outputId": "bb2461bb-02f0-426e-8391-7c399933cf98"
      },
      "source": [
        "my_list.remove(\"NYC\")\n",
        "my_list"
      ],
      "execution_count": null,
      "outputs": [
        {
          "output_type": "execute_result",
          "data": {
            "text/plain": [
              "['Buffalo', 'DC', 'Seattle']"
            ]
          },
          "metadata": {
            "tags": []
          },
          "execution_count": 5
        }
      ]
    },
    {
      "cell_type": "code",
      "metadata": {
        "id": "mnrOu1JBYpO6"
      },
      "source": [
        "person_a = {\"name\":\"Yingjie\", \"city\":\"Buffalo\"}"
      ],
      "execution_count": null,
      "outputs": []
    },
    {
      "cell_type": "code",
      "metadata": {
        "colab": {
          "base_uri": "https://localhost:8080/",
          "height": 35
        },
        "id": "A7dkwQe1ZLgN",
        "outputId": "cc359c96-838c-4299-9dda-23c160d3060e"
      },
      "source": [
        "person_a[\"name\"]"
      ],
      "execution_count": null,
      "outputs": [
        {
          "output_type": "execute_result",
          "data": {
            "application/vnd.google.colaboratory.intrinsic+json": {
              "type": "string"
            },
            "text/plain": [
              "'Yingjie'"
            ]
          },
          "metadata": {
            "tags": []
          },
          "execution_count": 7
        }
      ]
    },
    {
      "cell_type": "code",
      "metadata": {
        "id": "pjhewwXrZQmd"
      },
      "source": [
        "person_a[\"hobby\"] =\"hiking\""
      ],
      "execution_count": null,
      "outputs": []
    },
    {
      "cell_type": "code",
      "metadata": {
        "colab": {
          "base_uri": "https://localhost:8080/"
        },
        "id": "S2inIQsiZYCN",
        "outputId": "b6e13b0e-3506-4aba-f454-79fdfb2c5f14"
      },
      "source": [
        "person_a"
      ],
      "execution_count": null,
      "outputs": [
        {
          "output_type": "execute_result",
          "data": {
            "text/plain": [
              "{'city': 'Buffalo', 'hobby': 'hiking', 'name': 'Yingjie'}"
            ]
          },
          "metadata": {
            "tags": []
          },
          "execution_count": 9
        }
      ]
    },
    {
      "cell_type": "code",
      "metadata": {
        "id": "YNWADnC1ZZAW"
      },
      "source": [
        "def print_my_msg(name, major):\n",
        "  print(\"My name is \"+name+\", my major is \"+major)"
      ],
      "execution_count": null,
      "outputs": []
    },
    {
      "cell_type": "code",
      "metadata": {
        "colab": {
          "base_uri": "https://localhost:8080/"
        },
        "id": "FzO8hsdMa0Gb",
        "outputId": "0e33ca93-38a1-4e55-97f7-22b40260dc76"
      },
      "source": [
        "print_my_msg(\"Yingjie\",\"GIS\")"
      ],
      "execution_count": null,
      "outputs": [
        {
          "output_type": "stream",
          "text": [
            "My name is Yingjie, my major is GIS\n"
          ],
          "name": "stdout"
        }
      ]
    },
    {
      "cell_type": "code",
      "metadata": {
        "colab": {
          "base_uri": "https://localhost:8080/"
        },
        "id": "m-pysoKOa-52",
        "outputId": "7d212900-aed3-4453-e00f-bbd2b5302417"
      },
      "source": [
        "print_my_msg(\"John\",\"GIS\")"
      ],
      "execution_count": null,
      "outputs": [
        {
          "output_type": "stream",
          "text": [
            "My name is John, my major is GIS\n"
          ],
          "name": "stdout"
        }
      ]
    },
    {
      "cell_type": "code",
      "metadata": {
        "colab": {
          "base_uri": "https://localhost:8080/"
        },
        "id": "e9zLznsSbFR2",
        "outputId": "40e13d4f-3d54-4aff-8839-393d24d99a89"
      },
      "source": [
        "person_a"
      ],
      "execution_count": null,
      "outputs": [
        {
          "output_type": "execute_result",
          "data": {
            "text/plain": [
              "{'city': 'Buffalo', 'hobby': 'hiking', 'name': 'Yingjie'}"
            ]
          },
          "metadata": {
            "tags": []
          },
          "execution_count": 13
        }
      ]
    },
    {
      "cell_type": "code",
      "metadata": {
        "id": "k4ovc9q2d5mS"
      },
      "source": [
        "import pandas as pd"
      ],
      "execution_count": null,
      "outputs": []
    },
    {
      "cell_type": "code",
      "metadata": {
        "id": "UuIEo6zkejci"
      },
      "source": [
        "data = [['Alex',32],['Bob',56],['Clarke',23]]"
      ],
      "execution_count": null,
      "outputs": []
    },
    {
      "cell_type": "code",
      "metadata": {
        "id": "KI2gFp5pe0gq"
      },
      "source": [
        "df = pd.DataFrame(data,columns=['Name','Age'])"
      ],
      "execution_count": null,
      "outputs": []
    },
    {
      "cell_type": "code",
      "metadata": {
        "colab": {
          "base_uri": "https://localhost:8080/",
          "height": 142
        },
        "id": "tOSDHpXXfI7_",
        "outputId": "59393f73-8429-4f34-c637-6a30f516f7c8"
      },
      "source": [
        "df"
      ],
      "execution_count": null,
      "outputs": [
        {
          "output_type": "execute_result",
          "data": {
            "text/html": [
              "<div>\n",
              "<style scoped>\n",
              "    .dataframe tbody tr th:only-of-type {\n",
              "        vertical-align: middle;\n",
              "    }\n",
              "\n",
              "    .dataframe tbody tr th {\n",
              "        vertical-align: top;\n",
              "    }\n",
              "\n",
              "    .dataframe thead th {\n",
              "        text-align: right;\n",
              "    }\n",
              "</style>\n",
              "<table border=\"1\" class=\"dataframe\">\n",
              "  <thead>\n",
              "    <tr style=\"text-align: right;\">\n",
              "      <th></th>\n",
              "      <th>Name</th>\n",
              "      <th>Age</th>\n",
              "    </tr>\n",
              "  </thead>\n",
              "  <tbody>\n",
              "    <tr>\n",
              "      <th>0</th>\n",
              "      <td>Alex</td>\n",
              "      <td>32</td>\n",
              "    </tr>\n",
              "    <tr>\n",
              "      <th>1</th>\n",
              "      <td>Bob</td>\n",
              "      <td>56</td>\n",
              "    </tr>\n",
              "    <tr>\n",
              "      <th>2</th>\n",
              "      <td>Clarke</td>\n",
              "      <td>23</td>\n",
              "    </tr>\n",
              "  </tbody>\n",
              "</table>\n",
              "</div>"
            ],
            "text/plain": [
              "     Name  Age\n",
              "0    Alex   32\n",
              "1     Bob   56\n",
              "2  Clarke   23"
            ]
          },
          "metadata": {
            "tags": []
          },
          "execution_count": 17
        }
      ]
    },
    {
      "cell_type": "code",
      "metadata": {
        "id": "T8LpXu3kfJzk"
      },
      "source": [
        "df = pd.read_csv(\"/content/drive/MyDrive/2021AAGWorkshop/Demo/Data/file_demo.csv\", header=None)"
      ],
      "execution_count": null,
      "outputs": []
    },
    {
      "cell_type": "code",
      "metadata": {
        "colab": {
          "base_uri": "https://localhost:8080/",
          "height": 173
        },
        "id": "3emg7-kagTFl",
        "outputId": "5151c50e-b87d-4329-bfca-d7ef9a2fef25"
      },
      "source": [
        "df"
      ],
      "execution_count": null,
      "outputs": [
        {
          "output_type": "execute_result",
          "data": {
            "text/html": [
              "<div>\n",
              "<style scoped>\n",
              "    .dataframe tbody tr th:only-of-type {\n",
              "        vertical-align: middle;\n",
              "    }\n",
              "\n",
              "    .dataframe tbody tr th {\n",
              "        vertical-align: top;\n",
              "    }\n",
              "\n",
              "    .dataframe thead th {\n",
              "        text-align: right;\n",
              "    }\n",
              "</style>\n",
              "<table border=\"1\" class=\"dataframe\">\n",
              "  <thead>\n",
              "    <tr style=\"text-align: right;\">\n",
              "      <th></th>\n",
              "      <th>0</th>\n",
              "      <th>1</th>\n",
              "    </tr>\n",
              "  </thead>\n",
              "  <tbody>\n",
              "    <tr>\n",
              "      <th>0</th>\n",
              "      <td>503</td>\n",
              "      <td>GIS and Machine Learning</td>\n",
              "    </tr>\n",
              "    <tr>\n",
              "      <th>1</th>\n",
              "      <td>281</td>\n",
              "      <td>Web-based GIS</td>\n",
              "    </tr>\n",
              "    <tr>\n",
              "      <th>2</th>\n",
              "      <td>506</td>\n",
              "      <td>Geographic Information Systems</td>\n",
              "    </tr>\n",
              "    <tr>\n",
              "      <th>3</th>\n",
              "      <td>511</td>\n",
              "      <td>Spatial Data Science</td>\n",
              "    </tr>\n",
              "  </tbody>\n",
              "</table>\n",
              "</div>"
            ],
            "text/plain": [
              "     0                               1\n",
              "0  503        GIS and Machine Learning\n",
              "1  281                   Web-based GIS\n",
              "2  506  Geographic Information Systems\n",
              "3  511            Spatial Data Science"
            ]
          },
          "metadata": {
            "tags": []
          },
          "execution_count": 19
        }
      ]
    },
    {
      "cell_type": "code",
      "metadata": {
        "colab": {
          "base_uri": "https://localhost:8080/",
          "height": 173
        },
        "id": "ieQRsGEsgVfY",
        "outputId": "f69aaa2e-19be-4b0d-bca1-8c845af68c1f"
      },
      "source": [
        "df.columns = [\"Num\",\"Title\"]\n",
        "df"
      ],
      "execution_count": null,
      "outputs": [
        {
          "output_type": "execute_result",
          "data": {
            "text/html": [
              "<div>\n",
              "<style scoped>\n",
              "    .dataframe tbody tr th:only-of-type {\n",
              "        vertical-align: middle;\n",
              "    }\n",
              "\n",
              "    .dataframe tbody tr th {\n",
              "        vertical-align: top;\n",
              "    }\n",
              "\n",
              "    .dataframe thead th {\n",
              "        text-align: right;\n",
              "    }\n",
              "</style>\n",
              "<table border=\"1\" class=\"dataframe\">\n",
              "  <thead>\n",
              "    <tr style=\"text-align: right;\">\n",
              "      <th></th>\n",
              "      <th>Num</th>\n",
              "      <th>Title</th>\n",
              "    </tr>\n",
              "  </thead>\n",
              "  <tbody>\n",
              "    <tr>\n",
              "      <th>0</th>\n",
              "      <td>503</td>\n",
              "      <td>GIS and Machine Learning</td>\n",
              "    </tr>\n",
              "    <tr>\n",
              "      <th>1</th>\n",
              "      <td>281</td>\n",
              "      <td>Web-based GIS</td>\n",
              "    </tr>\n",
              "    <tr>\n",
              "      <th>2</th>\n",
              "      <td>506</td>\n",
              "      <td>Geographic Information Systems</td>\n",
              "    </tr>\n",
              "    <tr>\n",
              "      <th>3</th>\n",
              "      <td>511</td>\n",
              "      <td>Spatial Data Science</td>\n",
              "    </tr>\n",
              "  </tbody>\n",
              "</table>\n",
              "</div>"
            ],
            "text/plain": [
              "   Num                           Title\n",
              "0  503        GIS and Machine Learning\n",
              "1  281                   Web-based GIS\n",
              "2  506  Geographic Information Systems\n",
              "3  511            Spatial Data Science"
            ]
          },
          "metadata": {
            "tags": []
          },
          "execution_count": 20
        }
      ]
    },
    {
      "cell_type": "code",
      "metadata": {
        "colab": {
          "base_uri": "https://localhost:8080/",
          "height": 111
        },
        "id": "LLd5enAHgfoY",
        "outputId": "fd59d0fa-088c-42cc-d7ff-bdb354d74bc3"
      },
      "source": [
        "df.head(2)"
      ],
      "execution_count": null,
      "outputs": [
        {
          "output_type": "execute_result",
          "data": {
            "text/html": [
              "<div>\n",
              "<style scoped>\n",
              "    .dataframe tbody tr th:only-of-type {\n",
              "        vertical-align: middle;\n",
              "    }\n",
              "\n",
              "    .dataframe tbody tr th {\n",
              "        vertical-align: top;\n",
              "    }\n",
              "\n",
              "    .dataframe thead th {\n",
              "        text-align: right;\n",
              "    }\n",
              "</style>\n",
              "<table border=\"1\" class=\"dataframe\">\n",
              "  <thead>\n",
              "    <tr style=\"text-align: right;\">\n",
              "      <th></th>\n",
              "      <th>Num</th>\n",
              "      <th>Title</th>\n",
              "    </tr>\n",
              "  </thead>\n",
              "  <tbody>\n",
              "    <tr>\n",
              "      <th>0</th>\n",
              "      <td>503</td>\n",
              "      <td>GIS and Machine Learning</td>\n",
              "    </tr>\n",
              "    <tr>\n",
              "      <th>1</th>\n",
              "      <td>281</td>\n",
              "      <td>Web-based GIS</td>\n",
              "    </tr>\n",
              "  </tbody>\n",
              "</table>\n",
              "</div>"
            ],
            "text/plain": [
              "   Num                     Title\n",
              "0  503  GIS and Machine Learning\n",
              "1  281             Web-based GIS"
            ]
          },
          "metadata": {
            "tags": []
          },
          "execution_count": 22
        }
      ]
    },
    {
      "cell_type": "code",
      "metadata": {
        "colab": {
          "base_uri": "https://localhost:8080/"
        },
        "id": "wS8JUCddhCax",
        "outputId": "be7ea695-1afa-4666-cb7c-3f4fc7bd39e4"
      },
      "source": [
        "df[\"Title\"]"
      ],
      "execution_count": null,
      "outputs": [
        {
          "output_type": "execute_result",
          "data": {
            "text/plain": [
              "0          GIS and Machine Learning\n",
              "1                     Web-based GIS\n",
              "2    Geographic Information Systems\n",
              "3              Spatial Data Science\n",
              "Name: Title, dtype: object"
            ]
          },
          "metadata": {
            "tags": []
          },
          "execution_count": 23
        }
      ]
    },
    {
      "cell_type": "code",
      "metadata": {
        "colab": {
          "base_uri": "https://localhost:8080/"
        },
        "id": "qH9_mNFJhVtZ",
        "outputId": "244de9ff-00d4-4eb1-ad86-3012a16327e4"
      },
      "source": [
        "df.iloc[0]"
      ],
      "execution_count": null,
      "outputs": [
        {
          "output_type": "execute_result",
          "data": {
            "text/plain": [
              "Num                           503\n",
              "Title    GIS and Machine Learning\n",
              "Name: 0, dtype: object"
            ]
          },
          "metadata": {
            "tags": []
          },
          "execution_count": 24
        }
      ]
    },
    {
      "cell_type": "code",
      "metadata": {
        "colab": {
          "base_uri": "https://localhost:8080/",
          "height": 35
        },
        "id": "A9__HgFlhbmR",
        "outputId": "61b916c9-5ed1-4f9d-f747-756d2db4558a"
      },
      "source": [
        "df[\"Title\"][1]"
      ],
      "execution_count": null,
      "outputs": [
        {
          "output_type": "execute_result",
          "data": {
            "application/vnd.google.colaboratory.intrinsic+json": {
              "type": "string"
            },
            "text/plain": [
              "'Web-based GIS'"
            ]
          },
          "metadata": {
            "tags": []
          },
          "execution_count": 25
        }
      ]
    },
    {
      "cell_type": "code",
      "metadata": {
        "colab": {
          "base_uri": "https://localhost:8080/"
        },
        "id": "RUHWEZHShj7t",
        "outputId": "7cf8f234-7044-4e77-9d1f-38466c0eb829"
      },
      "source": [
        "df.shape"
      ],
      "execution_count": null,
      "outputs": [
        {
          "output_type": "execute_result",
          "data": {
            "text/plain": [
              "(4, 2)"
            ]
          },
          "metadata": {
            "tags": []
          },
          "execution_count": 26
        }
      ]
    },
    {
      "cell_type": "code",
      "metadata": {
        "colab": {
          "base_uri": "https://localhost:8080/"
        },
        "id": "stEIAzYUhv_B",
        "outputId": "b1a7e4de-3f0f-4554-bd69-42c8a960baba"
      },
      "source": [
        "!pip install geopandas"
      ],
      "execution_count": null,
      "outputs": [
        {
          "output_type": "stream",
          "text": [
            "Collecting geopandas\n",
            "\u001b[?25l  Downloading https://files.pythonhosted.org/packages/2a/9f/e8a440a993e024c0d3d4e5c7d3346367c50c9a1a3d735caf5ee3bde0aab1/geopandas-0.8.2-py2.py3-none-any.whl (962kB)\n",
            "\u001b[K     |████████████████████████████████| 972kB 4.3MB/s \n",
            "\u001b[?25hCollecting fiona\n",
            "\u001b[?25l  Downloading https://files.pythonhosted.org/packages/37/94/4910fd55246c1d963727b03885ead6ef1cd3748a465f7b0239ab25dfc9a3/Fiona-1.8.18-cp36-cp36m-manylinux1_x86_64.whl (14.8MB)\n",
            "\u001b[K     |████████████████████████████████| 14.8MB 295kB/s \n",
            "\u001b[?25hCollecting pyproj>=2.2.0\n",
            "\u001b[?25l  Downloading https://files.pythonhosted.org/packages/e4/ab/280e80a67cfc109d15428c0ec56391fc03a65857b7727cf4e6e6f99a4204/pyproj-3.0.0.post1-cp36-cp36m-manylinux2010_x86_64.whl (6.4MB)\n",
            "\u001b[K     |████████████████████████████████| 6.5MB 51.2MB/s \n",
            "\u001b[?25hRequirement already satisfied: shapely in /usr/local/lib/python3.6/dist-packages (from geopandas) (1.7.1)\n",
            "Requirement already satisfied: pandas>=0.23.0 in /usr/local/lib/python3.6/dist-packages (from geopandas) (1.1.5)\n",
            "Requirement already satisfied: click<8,>=4.0 in /usr/local/lib/python3.6/dist-packages (from fiona->geopandas) (7.1.2)\n",
            "Requirement already satisfied: six>=1.7 in /usr/local/lib/python3.6/dist-packages (from fiona->geopandas) (1.15.0)\n",
            "Collecting cligj>=0.5\n",
            "  Downloading https://files.pythonhosted.org/packages/42/1e/947eadf10d6804bf276eb8a038bd5307996dceaaa41cfd21b7a15ec62f5d/cligj-0.7.1-py3-none-any.whl\n",
            "Requirement already satisfied: certifi in /usr/local/lib/python3.6/dist-packages (from fiona->geopandas) (2020.12.5)\n",
            "Requirement already satisfied: attrs>=17 in /usr/local/lib/python3.6/dist-packages (from fiona->geopandas) (20.3.0)\n",
            "Collecting click-plugins>=1.0\n",
            "  Downloading https://files.pythonhosted.org/packages/e9/da/824b92d9942f4e472702488857914bdd50f73021efea15b4cad9aca8ecef/click_plugins-1.1.1-py2.py3-none-any.whl\n",
            "Collecting munch\n",
            "  Downloading https://files.pythonhosted.org/packages/cc/ab/85d8da5c9a45e072301beb37ad7f833cd344e04c817d97e0cc75681d248f/munch-2.5.0-py2.py3-none-any.whl\n",
            "Requirement already satisfied: numpy>=1.15.4 in /usr/local/lib/python3.6/dist-packages (from pandas>=0.23.0->geopandas) (1.19.5)\n",
            "Requirement already satisfied: pytz>=2017.2 in /usr/local/lib/python3.6/dist-packages (from pandas>=0.23.0->geopandas) (2018.9)\n",
            "Requirement already satisfied: python-dateutil>=2.7.3 in /usr/local/lib/python3.6/dist-packages (from pandas>=0.23.0->geopandas) (2.8.1)\n",
            "Installing collected packages: cligj, click-plugins, munch, fiona, pyproj, geopandas\n",
            "Successfully installed click-plugins-1.1.1 cligj-0.7.1 fiona-1.8.18 geopandas-0.8.2 munch-2.5.0 pyproj-3.0.0.post1\n"
          ],
          "name": "stdout"
        }
      ]
    },
    {
      "cell_type": "code",
      "metadata": {
        "id": "3hTjFXrbjPZq"
      },
      "source": [
        "import geopandas as gpd"
      ],
      "execution_count": null,
      "outputs": []
    },
    {
      "cell_type": "code",
      "metadata": {
        "id": "hsQ7-wWrjX8f"
      },
      "source": [
        "world_shp = gpd.read_file(\"/content/drive/MyDrive/2021AAGWorkshop/Demo/Data/Countries_2007.shp\")"
      ],
      "execution_count": null,
      "outputs": []
    },
    {
      "cell_type": "code",
      "metadata": {
        "colab": {
          "base_uri": "https://localhost:8080/",
          "height": 227
        },
        "id": "lWcT9mSPj_sX",
        "outputId": "11112141-6a6b-4174-c804-399b89b3cef5"
      },
      "source": [
        "world_shp.plot()"
      ],
      "execution_count": null,
      "outputs": [
        {
          "output_type": "execute_result",
          "data": {
            "text/plain": [
              "<matplotlib.axes._subplots.AxesSubplot at 0x7f1e2610a9e8>"
            ]
          },
          "metadata": {
            "tags": []
          },
          "execution_count": 30
        },
        {
          "output_type": "display_data",
          "data": {
            "image/png": "[encoded data removed]",
            "text/plain": [
              "<Figure size 432x288 with 1 Axes>"
            ]
          },
          "metadata": {
            "tags": [],
            "needs_background": "light"
          }
        }
      ]
    },
    {
      "cell_type": "code",
      "metadata": {
        "colab": {
          "base_uri": "https://localhost:8080/",
          "height": 547
        },
        "id": "Y7dqzABFkEfM",
        "outputId": "6719e742-3ff5-45d8-aee4-e74f4d2819f7"
      },
      "source": [
        "world_shp.head()"
      ],
      "execution_count": null,
      "outputs": [
        {
          "output_type": "execute_result",
          "data": {
            "text/html": [
              "<div>\n",
              "<style scoped>\n",
              "    .dataframe tbody tr th:only-of-type {\n",
              "        vertical-align: middle;\n",
              "    }\n",
              "\n",
              "    .dataframe tbody tr th {\n",
              "        vertical-align: top;\n",
              "    }\n",
              "\n",
              "    .dataframe thead th {\n",
              "        text-align: right;\n",
              "    }\n",
              "</style>\n",
              "<table border=\"1\" class=\"dataframe\">\n",
              "  <thead>\n",
              "    <tr style=\"text-align: right;\">\n",
              "      <th></th>\n",
              "      <th>FIPS_CNTRY</th>\n",
              "      <th>GMI_CNTRY</th>\n",
              "      <th>ISO_2DIGIT</th>\n",
              "      <th>ISO_3DIGIT</th>\n",
              "      <th>ISO_NUM</th>\n",
              "      <th>CNTRY_NAME</th>\n",
              "      <th>LONG_NAME</th>\n",
              "      <th>ISOSHRTNAM</th>\n",
              "      <th>UNSHRTNAM</th>\n",
              "      <th>LOCSHRTNAM</th>\n",
              "      <th>LOCLNGNAM</th>\n",
              "      <th>STATUS</th>\n",
              "      <th>SQKM</th>\n",
              "      <th>SQMI</th>\n",
              "      <th>POP2007</th>\n",
              "      <th>POP2015</th>\n",
              "      <th>POP2025</th>\n",
              "      <th>POP014_07</th>\n",
              "      <th>POP1564_07</th>\n",
              "      <th>HIVAIDSTOT</th>\n",
              "      <th>HIVAIDS_YR</th>\n",
              "      <th>HIVDTH</th>\n",
              "      <th>HIVDTH_YR</th>\n",
              "      <th>Shape_Leng</th>\n",
              "      <th>Shape_Area</th>\n",
              "      <th>TOTCO2_200</th>\n",
              "      <th>GDP_USD</th>\n",
              "      <th>GDP_YR</th>\n",
              "      <th>IMPORT_USD</th>\n",
              "      <th>IMPORT_YR</th>\n",
              "      <th>EXPORT_USD</th>\n",
              "      <th>EXPORT_YR</th>\n",
              "      <th>geometry</th>\n",
              "    </tr>\n",
              "  </thead>\n",
              "  <tbody>\n",
              "    <tr>\n",
              "      <th>0</th>\n",
              "      <td>FK</td>\n",
              "      <td>FLK</td>\n",
              "      <td>FK</td>\n",
              "      <td>FLK</td>\n",
              "      <td>238</td>\n",
              "      <td>Falkland Is.</td>\n",
              "      <td>Falkland Islands (Islas Malvinas)</td>\n",
              "      <td>Falkland Islands (Malvinas)</td>\n",
              "      <td>Falkland Islands (Malvinas)</td>\n",
              "      <td>None</td>\n",
              "      <td>None</td>\n",
              "      <td>Non-Self-Governing Territory of the UK</td>\n",
              "      <td>10216.81</td>\n",
              "      <td>3944.71</td>\n",
              "      <td>-99.0</td>\n",
              "      <td>-99.0</td>\n",
              "      <td>-99.0</td>\n",
              "      <td>-99.0</td>\n",
              "      <td>-99.0</td>\n",
              "      <td>-99.0</td>\n",
              "      <td>-99.0</td>\n",
              "      <td>-99.0</td>\n",
              "      <td>-99.0</td>\n",
              "      <td>19.082566</td>\n",
              "      <td>1.495383</td>\n",
              "      <td>0.034875</td>\n",
              "      <td>7.500000e+07</td>\n",
              "      <td>2002.0</td>\n",
              "      <td>90000000.0</td>\n",
              "      <td>2004.0</td>\n",
              "      <td>125000000.0</td>\n",
              "      <td>2004.0</td>\n",
              "      <td>MULTIPOLYGON (((-59.34806 -52.34305, -59.37945...</td>\n",
              "    </tr>\n",
              "    <tr>\n",
              "      <th>1</th>\n",
              "      <td>FG</td>\n",
              "      <td>GUF</td>\n",
              "      <td>GF</td>\n",
              "      <td>GUF</td>\n",
              "      <td>254</td>\n",
              "      <td>French Guiana</td>\n",
              "      <td>Department of Guiana</td>\n",
              "      <td>French Guiana</td>\n",
              "      <td>French Guiana</td>\n",
              "      <td>Guyane</td>\n",
              "      <td>None</td>\n",
              "      <td>Oversea Department of France</td>\n",
              "      <td>83726.18</td>\n",
              "      <td>32326.68</td>\n",
              "      <td>203321.0</td>\n",
              "      <td>229142.0</td>\n",
              "      <td>259123.0</td>\n",
              "      <td>58239.0</td>\n",
              "      <td>131960.0</td>\n",
              "      <td>-99.0</td>\n",
              "      <td>-99.0</td>\n",
              "      <td>-99.0</td>\n",
              "      <td>-99.0</td>\n",
              "      <td>12.253085</td>\n",
              "      <td>6.807577</td>\n",
              "      <td>1.087413</td>\n",
              "      <td>1.551000e+09</td>\n",
              "      <td>2003.0</td>\n",
              "      <td>625000000.0</td>\n",
              "      <td>2002.0</td>\n",
              "      <td>137500000.0</td>\n",
              "      <td>2003.0</td>\n",
              "      <td>POLYGON ((-54.60378 2.32919, -54.49917 2.36500...</td>\n",
              "    </tr>\n",
              "    <tr>\n",
              "      <th>2</th>\n",
              "      <td>GY</td>\n",
              "      <td>GUY</td>\n",
              "      <td>GY</td>\n",
              "      <td>GUY</td>\n",
              "      <td>328</td>\n",
              "      <td>Guyana</td>\n",
              "      <td>Co-operative Republic of Guyana</td>\n",
              "      <td>Guyana</td>\n",
              "      <td>Guyana</td>\n",
              "      <td>None</td>\n",
              "      <td>None</td>\n",
              "      <td>UN Member State</td>\n",
              "      <td>210335.67</td>\n",
              "      <td>81210.62</td>\n",
              "      <td>769095.0</td>\n",
              "      <td>775526.0</td>\n",
              "      <td>755884.0</td>\n",
              "      <td>200436.0</td>\n",
              "      <td>527908.0</td>\n",
              "      <td>11000.0</td>\n",
              "      <td>2003.0</td>\n",
              "      <td>1100.0</td>\n",
              "      <td>2003.0</td>\n",
              "      <td>25.707599</td>\n",
              "      <td>17.175215</td>\n",
              "      <td>1.715807</td>\n",
              "      <td>3.620000e+09</td>\n",
              "      <td>2006.0</td>\n",
              "      <td>706900000.0</td>\n",
              "      <td>2006.0</td>\n",
              "      <td>621600000.0</td>\n",
              "      <td>2006.0</td>\n",
              "      <td>POLYGON ((-58.17262 6.81222, -58.15494 6.82819...</td>\n",
              "    </tr>\n",
              "    <tr>\n",
              "      <th>3</th>\n",
              "      <td>PC</td>\n",
              "      <td>PCN</td>\n",
              "      <td>PN</td>\n",
              "      <td>PCN</td>\n",
              "      <td>612</td>\n",
              "      <td>Pitcairn Is.</td>\n",
              "      <td>Pitcairn, Henderson, Ducie, and Oeno Isl</td>\n",
              "      <td>Pitcairn</td>\n",
              "      <td>Pitcairn Island</td>\n",
              "      <td>None</td>\n",
              "      <td>None</td>\n",
              "      <td>Non-Self-Governing Territory of the UK</td>\n",
              "      <td>27.70</td>\n",
              "      <td>10.69</td>\n",
              "      <td>-99.0</td>\n",
              "      <td>-99.0</td>\n",
              "      <td>-99.0</td>\n",
              "      <td>-99.0</td>\n",
              "      <td>-99.0</td>\n",
              "      <td>-99.0</td>\n",
              "      <td>-99.0</td>\n",
              "      <td>-99.0</td>\n",
              "      <td>-99.0</td>\n",
              "      <td>0.338167</td>\n",
              "      <td>0.004286</td>\n",
              "      <td>-99.000000</td>\n",
              "      <td>-9.900000e+01</td>\n",
              "      <td>-99.0</td>\n",
              "      <td>-99.0</td>\n",
              "      <td>-99.0</td>\n",
              "      <td>-99.0</td>\n",
              "      <td>-99.0</td>\n",
              "      <td>MULTIPOLYGON (((-128.33222 -24.32726, -128.326...</td>\n",
              "    </tr>\n",
              "    <tr>\n",
              "      <th>4</th>\n",
              "      <td>SX</td>\n",
              "      <td>SGS</td>\n",
              "      <td>GS</td>\n",
              "      <td>SGS</td>\n",
              "      <td>239</td>\n",
              "      <td>South Georgia &amp; the South Sandwich Is.</td>\n",
              "      <td>South Georgia and the South Sandwich Is</td>\n",
              "      <td>South Georgia and the South Sandwich Islands</td>\n",
              "      <td>South Georgia and the South Sandwich Islands</td>\n",
              "      <td>None</td>\n",
              "      <td>None</td>\n",
              "      <td>UK Territory</td>\n",
              "      <td>3415.89</td>\n",
              "      <td>1318.88</td>\n",
              "      <td>-99.0</td>\n",
              "      <td>-99.0</td>\n",
              "      <td>-99.0</td>\n",
              "      <td>-99.0</td>\n",
              "      <td>-99.0</td>\n",
              "      <td>-99.0</td>\n",
              "      <td>-99.0</td>\n",
              "      <td>-99.0</td>\n",
              "      <td>-99.0</td>\n",
              "      <td>7.337913</td>\n",
              "      <td>0.515458</td>\n",
              "      <td>-99.000000</td>\n",
              "      <td>-9.900000e+01</td>\n",
              "      <td>-99.0</td>\n",
              "      <td>-99.0</td>\n",
              "      <td>-99.0</td>\n",
              "      <td>-99.0</td>\n",
              "      <td>-99.0</td>\n",
              "      <td>MULTIPOLYGON (((-36.99139 -54.35056, -36.99973...</td>\n",
              "    </tr>\n",
              "  </tbody>\n",
              "</table>\n",
              "</div>"
            ],
            "text/plain": [
              "  FIPS_CNTRY  ...                                           geometry\n",
              "0         FK  ...  MULTIPOLYGON (((-59.34806 -52.34305, -59.37945...\n",
              "1         FG  ...  POLYGON ((-54.60378 2.32919, -54.49917 2.36500...\n",
              "2         GY  ...  POLYGON ((-58.17262 6.81222, -58.15494 6.82819...\n",
              "3         PC  ...  MULTIPOLYGON (((-128.33222 -24.32726, -128.326...\n",
              "4         SX  ...  MULTIPOLYGON (((-36.99139 -54.35056, -36.99973...\n",
              "\n",
              "[5 rows x 33 columns]"
            ]
          },
          "metadata": {
            "tags": []
          },
          "execution_count": 31
        }
      ]
    },
    {
      "cell_type": "code",
      "metadata": {
        "colab": {
          "base_uri": "https://localhost:8080/"
        },
        "id": "annQi0F4kPNc",
        "outputId": "f32b37ab-16c9-435a-a8bb-3fd178f1fd4f"
      },
      "source": [
        "type(world_shp)"
      ],
      "execution_count": null,
      "outputs": [
        {
          "output_type": "execute_result",
          "data": {
            "text/plain": [
              "geopandas.geodataframe.GeoDataFrame"
            ]
          },
          "metadata": {
            "tags": []
          },
          "execution_count": 32
        }
      ]
    },
    {
      "cell_type": "code",
      "metadata": {
        "colab": {
          "base_uri": "https://localhost:8080/"
        },
        "id": "qLLphdkjkgWu",
        "outputId": "b32ee3cc-4711-44b8-c5b3-2ea2a3ffb12c"
      },
      "source": [
        "type(world_shp[\"geometry\"])"
      ],
      "execution_count": null,
      "outputs": [
        {
          "output_type": "execute_result",
          "data": {
            "text/plain": [
              "geopandas.geoseries.GeoSeries"
            ]
          },
          "metadata": {
            "tags": []
          },
          "execution_count": 33
        }
      ]
    },
    {
      "cell_type": "code",
      "metadata": {
        "colab": {
          "base_uri": "https://localhost:8080/"
        },
        "id": "ufrCD8VjkpW5",
        "outputId": "21104b96-f7fa-4e2d-9e4c-268482e9efc8"
      },
      "source": [
        "type(world_shp[\"GDP_USD\"])"
      ],
      "execution_count": null,
      "outputs": [
        {
          "output_type": "execute_result",
          "data": {
            "text/plain": [
              "pandas.core.series.Series"
            ]
          },
          "metadata": {
            "tags": []
          },
          "execution_count": 34
        }
      ]
    },
    {
      "cell_type": "code",
      "metadata": {
        "id": "uXhOUZPPkwQc"
      },
      "source": [
        "major_countries = world_shp[world_shp[\"POP2015\"]>100000000]"
      ],
      "execution_count": null,
      "outputs": []
    },
    {
      "cell_type": "code",
      "metadata": {
        "colab": {
          "base_uri": "https://localhost:8080/",
          "height": 183
        },
        "id": "Jv5QhoTklKej",
        "outputId": "91e366d5-ced6-4069-b201-625e0fb7cc73"
      },
      "source": [
        "major_countries.plot()"
      ],
      "execution_count": null,
      "outputs": [
        {
          "output_type": "execute_result",
          "data": {
            "text/plain": [
              "<matplotlib.axes._subplots.AxesSubplot at 0x7f1e25d835c0>"
            ]
          },
          "metadata": {
            "tags": []
          },
          "execution_count": 36
        },
        {
          "output_type": "display_data",
          "data": {
            "image/png": "[encoded data removed]",
            "text/plain": [
              "<Figure size 432x288 with 1 Axes>"
            ]
          },
          "metadata": {
            "tags": [],
            "needs_background": "light"
          }
        }
      ]
    },
    {
      "cell_type": "code",
      "metadata": {
        "colab": {
          "base_uri": "https://localhost:8080/"
        },
        "id": "cdxrcphYlM31",
        "outputId": "a78d7f7b-5093-433d-b933-7a1292ead782"
      },
      "source": [
        "world_shp.crs"
      ],
      "execution_count": null,
      "outputs": [
        {
          "output_type": "execute_result",
          "data": {
            "text/plain": [
              "<Geographic 2D CRS: EPSG:4326>\n",
              "Name: WGS 84\n",
              "Axis Info [ellipsoidal]:\n",
              "- Lat[north]: Geodetic latitude (degree)\n",
              "- Lon[east]: Geodetic longitude (degree)\n",
              "Area of Use:\n",
              "- name: World.\n",
              "- bounds: (-180.0, -90.0, 180.0, 90.0)\n",
              "Datum: World Geodetic System 1984\n",
              "- Ellipsoid: WGS 84\n",
              "- Prime Meridian: Greenwich"
            ]
          },
          "metadata": {
            "tags": []
          },
          "execution_count": 37
        }
      ]
    },
    {
      "cell_type": "code",
      "metadata": {
        "colab": {
          "base_uri": "https://localhost:8080/"
        },
        "id": "mF2oOa6nlZLz",
        "outputId": "e083ac03-8d76-4a57-9fb2-87ac598fad80"
      },
      "source": [
        "gpd.datasets.available"
      ],
      "execution_count": null,
      "outputs": [
        {
          "output_type": "execute_result",
          "data": {
            "text/plain": [
              "['naturalearth_cities', 'naturalearth_lowres', 'nybb']"
            ]
          },
          "metadata": {
            "tags": []
          },
          "execution_count": 38
        }
      ]
    },
    {
      "cell_type": "code",
      "metadata": {
        "id": "yyu7HJlHl4t5"
      },
      "source": [
        "ne_world = gpd.read_file(gpd.datasets.get_path('naturalearth_lowres'))\n",
        "ne_cities = gpd.read_file(gpd.datasets.get_path('naturalearth_cities'))\n"
      ],
      "execution_count": null,
      "outputs": []
    },
    {
      "cell_type": "code",
      "metadata": {
        "id": "XVkrZUV7mgMf"
      },
      "source": [
        "import matplotlib.pyplot as plt\n"
      ],
      "execution_count": null,
      "outputs": []
    },
    {
      "cell_type": "code",
      "metadata": {
        "colab": {
          "base_uri": "https://localhost:8080/",
          "height": 339
        },
        "id": "P1Dk940FmmFH",
        "outputId": "8bec400b-0e42-4256-f9ce-8fd96581aa0f"
      },
      "source": [
        "fig, axis = plt.subplots(figsize=(10,6))\n",
        "ne_world.plot(ax=axis, color=\"white\", edgecolor=\"black\")\n",
        "ne_cities.plot(ax=axis, color=\"red\")"
      ],
      "execution_count": null,
      "outputs": [
        {
          "output_type": "execute_result",
          "data": {
            "text/plain": [
              "<matplotlib.axes._subplots.AxesSubplot at 0x7f1e25fe7ac8>"
            ]
          },
          "metadata": {
            "tags": []
          },
          "execution_count": 41
        },
        {
          "output_type": "display_data",
          "data": {
            "image/png": "[encoded data removed]",
            "text/plain": [
              "<Figure size 720x432 with 1 Axes>"
            ]
          },
          "metadata": {
            "tags": [],
            "needs_background": "light"
          }
        }
      ]
    },
    {
      "cell_type": "code",
      "metadata": {
        "id": "20J0iFP5m6JQ"
      },
      "source": [
        "nyc = gpd.read_file(gpd.datasets.get_path('nybb'))"
      ],
      "execution_count": null,
      "outputs": []
    },
    {
      "cell_type": "code",
      "metadata": {
        "colab": {
          "base_uri": "https://localhost:8080/",
          "height": 299
        },
        "id": "Owv5htpfnIAm",
        "outputId": "9d492e0e-ff0d-4b2e-d3c5-e4032ec9d1ff"
      },
      "source": [
        "nyc.plot()"
      ],
      "execution_count": null,
      "outputs": [
        {
          "output_type": "execute_result",
          "data": {
            "text/plain": [
              "<matplotlib.axes._subplots.AxesSubplot at 0x7f1e25fdcda0>"
            ]
          },
          "metadata": {
            "tags": []
          },
          "execution_count": 43
        },
        {
          "output_type": "display_data",
          "data": {
            "image/png": "[encoded data removed]",
            "text/plain": [
              "<Figure size 432x288 with 1 Axes>"
            ]
          },
          "metadata": {
            "tags": [],
            "needs_background": "light"
          }
        }
      ]
    },
    {
      "cell_type": "code",
      "metadata": {
        "colab": {
          "base_uri": "https://localhost:8080/"
        },
        "id": "W1btOCL8nJff",
        "outputId": "93530266-582d-4c5a-c584-b783ded0ebd8"
      },
      "source": [
        "nyc.crs"
      ],
      "execution_count": null,
      "outputs": [
        {
          "output_type": "execute_result",
          "data": {
            "text/plain": [
              "<Projected CRS: EPSG:2263>\n",
              "Name: NAD83 / New York Long Island (ftUS)\n",
              "Axis Info [cartesian]:\n",
              "- X[east]: Easting (US survey foot)\n",
              "- Y[north]: Northing (US survey foot)\n",
              "Area of Use:\n",
              "- name: United States (USA) - New York - counties of Bronx; Kings; Nassau; New York; Queens; Richmond; Suffolk.\n",
              "- bounds: (-74.26, 40.47, -71.8, 41.3)\n",
              "Coordinate Operation:\n",
              "- name: SPCS83 New York Long Island zone (US Survey feet)\n",
              "- method: Lambert Conic Conformal (2SP)\n",
              "Datum: North American Datum 1983\n",
              "- Ellipsoid: GRS 1980\n",
              "- Prime Meridian: Greenwich"
            ]
          },
          "metadata": {
            "tags": []
          },
          "execution_count": 44
        }
      ]
    },
    {
      "cell_type": "code",
      "metadata": {
        "id": "pNOuB90znMtT"
      },
      "source": [
        "nyc_buffer = nyc[\"geometry\"].buffer(5000)"
      ],
      "execution_count": null,
      "outputs": []
    },
    {
      "cell_type": "code",
      "metadata": {
        "colab": {
          "base_uri": "https://localhost:8080/",
          "height": 404
        },
        "id": "RJA9DOk5nkVx",
        "outputId": "b4366bc6-13cd-40f6-a528-daf22afcbbe5"
      },
      "source": [
        "fig, axis = plt.subplots(figsize=(10,6))\n",
        "nyc.plot(ax=axis, color=\"white\", edgecolor=\"black\")\n",
        "nyc_buffer.plot(ax=axis, alpha=0.5)"
      ],
      "execution_count": null,
      "outputs": [
        {
          "output_type": "execute_result",
          "data": {
            "text/plain": [
              "<matplotlib.axes._subplots.AxesSubplot at 0x7f1e25ee09b0>"
            ]
          },
          "metadata": {
            "tags": []
          },
          "execution_count": 46
        },
        {
          "output_type": "display_data",
          "data": {
            "image/png": "[encoded data removed]",
            "text/plain": [
              "<Figure size 720x432 with 1 Axes>"
            ]
          },
          "metadata": {
            "tags": [],
            "needs_background": "light"
          }
        }
      ]
    },
    {
      "cell_type": "code",
      "metadata": {
        "id": "smTaAxF3n_WA"
      },
      "source": [
        ""
      ],
      "execution_count": null,
      "outputs": []
    }
  ]
}